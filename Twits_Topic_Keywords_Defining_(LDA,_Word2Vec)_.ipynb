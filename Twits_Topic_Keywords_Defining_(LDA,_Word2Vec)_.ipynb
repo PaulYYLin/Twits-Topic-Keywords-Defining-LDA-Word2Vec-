{
  "cells": [
    {
      "cell_type": "code",
      "execution_count": null,
      "metadata": {
        "id": "iN2q7Ss74nXS"
      },
      "outputs": [],
      "source": [
        "\n",
        "# ! python3 -m spacy download en_core_web_sm\n",
        "import pandas as pd\n",
        "import numpy as np\n",
        "\n",
        "import nltk\n",
        "nltk.download('punkt_tab')\n",
        "nltk.download('wordnet')\n",
        "nltk.download('punkt')\n",
        "\n",
        "import re\n",
        "import time\n",
        "\n",
        "# Text Preprocessing\n",
        "from nltk.stem import WordNetLemmatizer\n",
        "from nltk.tokenize import word_tokenize\n",
        "import spacy\n",
        "\n",
        "nlp = spacy.load(\"en_core_web_sm\")\n",
        "\n",
        "# LDA Modeling\n",
        "from gensim import corpora, models, parsing\n",
        "\n",
        "! pip install optuna\n",
        "# LDA Parameter Optimization\n",
        "import optuna\n",
        "\n",
        "# Visulization\n",
        "import matplotlib.pyplot as plt\n",
        "import seaborn as sns\n",
        "\n",
        "! pip install pyLDAvis\n",
        "import pyLDAvis\n",
        "import pyLDAvis.gensim_models as gensimvis\n",
        "pyLDAvis.enable_notebook()\n",
        "\n",
        "\n",
        "from sklearn.metrics.pairwise import cosine_similarity\n",
        "from sklearn.decomposition import PCA\n",
        "\n",
        "import gensim.downloader as api\n",
        "\n",
        "# Pretrained Model with twitter dataset\n",
        "word2vec_model = api.load(\"glove-twitter-25\")\n"
      ]
    },
    {
      "cell_type": "markdown",
      "metadata": {
        "id": "x-Jx9EyCaG-A"
      },
      "source": [
        "The URLs below point to XLSX files containing tweets from 2022 from the following Twitter accounts:\n",
        "- [@TheBeaverton](https://twitter.com/TheBeaverton)\n",
        "- [@BillNye](https://twitter.com/BillNye) (Bill Nye)\n",
        "- [@GeorgeTakei](https://twitter.com/GeorgeTakei) (George Takei)\n",
        "- [@MeCookieMonster](https://twitter.com/MeCookieMonster) (Cookie Monster)\n",
        "- [@neiltyson](https://twitter.com/neiltyson) (Neil deGrasse Tyson)\n",
        "- [@StephenKing](https://twitter.com/StephenKing) (Stephen King)\n",
        "- [@22_Minutes](https://twitter.com/22_Minutes) (This Hour Has 22 Minutes)\n",
        "\n",
        "*If you want local copies of these data files, you can download each by Ctrl+clicking (Windows) or Command+clicking (Mac) the links below.*"
      ]
    },
    {
      "cell_type": "code",
      "execution_count": null,
      "metadata": {
        "id": "iRr918bIaIMj"
      },
      "outputs": [],
      "source": [
        "beaverton_url = 'https://drive.google.com/uc?export=download&id=173t6vMYcbSED81IOmg0MbhHsrSFSiF21'\n",
        "billnye_url = 'https://drive.google.com/uc?export=download&id=1w1Xm-TQfcPfGICM_8_LQiWSqzf8WUk8N'\n",
        "georgetakei_url = 'https://drive.google.com/uc?export=download&id=1_Ck9S2aW9cBQQrqoTiNLRmvRu4WvPn8y'\n",
        "cookiemonster_url = 'https://drive.google.com/uc?export=download&id=10Av-HVklZA4Su3TcvSpxU6nS8At9mJ05'\n",
        "neiltyson_url = 'https://drive.google.com/uc?export=download&id=1GSKxxldXe--HE4gSYAEn2ip2vS4bXKMM'\n",
        "stephenking_url = 'https://drive.google.com/uc?export=download&id=1Oq2pUCv0d7x4tDKX1E-3hgdSAuXcZtVU'\n",
        "twentytwo_minutes_url = 'https://drive.google.com/uc?export=download&id=1B2zwAJYdw_9skXAFbn7QIs6uyIikje5W'"
      ]
    },
    {
      "cell_type": "markdown",
      "metadata": {
        "id": "jZx3OGdpcvdd"
      },
      "source": [
        "## Read Data"
      ]
    },
    {
      "cell_type": "code",
      "execution_count": null,
      "metadata": {
        "id": "FbROjz863kKn"
      },
      "outputs": [],
      "source": [
        "def read_twitter_data(url)\n",
        "    return pd.read_excel(url, engine='openpyxl')"
      ]
    },
    {
      "cell_type": "code",
      "execution_count": null,
      "metadata": {
        "colab": {
          "base_uri": "https://localhost:8080/",
          "height": 262
        },
        "id": "LNmAo-Fmcv4r",
        "outputId": "fd450b13-ee23-4b6e-a2b0-9f49e8ec8ca4"
      },
      "outputs": [
        {
          "name": "stderr",
          "output_type": "stream",
          "text": [
            "/usr/local/lib/python3.11/dist-packages/ipykernel/ipkernel.py:283: DeprecationWarning: `should_run_async` will not call `transform_cell` automatically in the future. Please pass the result to `transformed_cell` argument and any exception that happen during thetransform in `preprocessing_exc_tuple` in IPython 7.17 and above.\n",
            "  and should_run_async(code)\n"
          ]
        },
        {
          "data": {
            "application/vnd.google.colaboratory.intrinsic+json": {
              "summary": "{\n  \"name\": \"data\",\n  \"rows\": 180,\n  \"fields\": [\n    {\n      \"column\": \"tweet-id\",\n      \"properties\": {\n        \"dtype\": \"number\",\n        \"std\": 52,\n        \"min\": 1,\n        \"max\": 180,\n        \"num_unique_values\": 180,\n        \"samples\": [\n          20,\n          43,\n          154\n        ],\n        \"semantic_type\": \"\",\n        \"description\": \"\"\n      }\n    },\n    {\n      \"column\": \"tweet-text\",\n      \"properties\": {\n        \"dtype\": \"string\",\n        \"num_unique_values\": 180,\n        \"samples\": [\n          \"Happy #EarthDay, people(s). Often, I am asked \\u201cBill - what can I do about climate change?\\u201d Well, recycling plastic bottles is good. Driving an efficient car is good. Taking public transportation is good. But now, we need big ideas. Huge ideas. We need huge changes.\",\n          \"7 December is Pearl Harbor Day, a day that lives in infamy. It caused us to pull together and address a global problem. Is it a lesson for us today?\",\n          \"Half staff to honor President Bush, a dignified thoughtful leader. He will be missed.\"\n        ],\n        \"semantic_type\": \"\",\n        \"description\": \"\"\n      }\n    },\n    {\n      \"column\": \"tweet-author\",\n      \"properties\": {\n        \"dtype\": \"category\",\n        \"num_unique_values\": 1,\n        \"samples\": [\n          \"Bill Nye\"\n        ],\n        \"semantic_type\": \"\",\n        \"description\": \"\"\n      }\n    },\n    {\n      \"column\": \"tweet-timestamp-date\",\n      \"properties\": {\n        \"dtype\": \"date\",\n        \"min\": \"2018-05-09 00:00:00\",\n        \"max\": \"2022-02-22 00:00:00\",\n        \"num_unique_values\": 159,\n        \"samples\": [\n          \"2020-04-22 00:00:00\"\n        ],\n        \"semantic_type\": \"\",\n        \"description\": \"\"\n      }\n    }\n  ]\n}",
              "type": "dataframe",
              "variable_name": "data"
            },
            "text/html": [
              "\n",
              "  <div id=\"df-46d19e81-cecf-4fd2-8910-4a4004747d4e\" class=\"colab-df-container\">\n",
              "    <div>\n",
              "<style scoped>\n",
              "    .dataframe tbody tr th:only-of-type {\n",
              "        vertical-align: middle;\n",
              "    }\n",
              "\n",
              "    .dataframe tbody tr th {\n",
              "        vertical-align: top;\n",
              "    }\n",
              "\n",
              "    .dataframe thead th {\n",
              "        text-align: right;\n",
              "    }\n",
              "</style>\n",
              "<table border=\"1\" class=\"dataframe\">\n",
              "  <thead>\n",
              "    <tr style=\"text-align: right;\">\n",
              "      <th></th>\n",
              "      <th>tweet-id</th>\n",
              "      <th>tweet-text</th>\n",
              "      <th>tweet-author</th>\n",
              "      <th>tweet-timestamp-date</th>\n",
              "    </tr>\n",
              "  </thead>\n",
              "  <tbody>\n",
              "    <tr>\n",
              "      <th>0</th>\n",
              "      <td>1</td>\n",
              "      <td>Happy Twosday, people(s). That’s right, it’s 2...</td>\n",
              "      <td>Bill Nye</td>\n",
              "      <td>2022-02-22</td>\n",
              "    </tr>\n",
              "    <tr>\n",
              "      <th>1</th>\n",
              "      <td>2</td>\n",
              "      <td>Dr. King would be 93 years old this week. The ...</td>\n",
              "      <td>Bill Nye</td>\n",
              "      <td>2022-01-17</td>\n",
              "    </tr>\n",
              "    <tr>\n",
              "      <th>2</th>\n",
              "      <td>3</td>\n",
              "      <td>Happy Isaac Newton’s Birthday James Webb Space...</td>\n",
              "      <td>Bill Nye</td>\n",
              "      <td>2021-12-25</td>\n",
              "    </tr>\n",
              "    <tr>\n",
              "      <th>3</th>\n",
              "      <td>4</td>\n",
              "      <td>Please, consider the following… my new VR Spac...</td>\n",
              "      <td>Bill Nye</td>\n",
              "      <td>2021-12-14</td>\n",
              "    </tr>\n",
              "    <tr>\n",
              "      <th>4</th>\n",
              "      <td>5</td>\n",
              "      <td>Winter tornadoes… warm winter in the south &amp; c...</td>\n",
              "      <td>Bill Nye</td>\n",
              "      <td>2021-12-12</td>\n",
              "    </tr>\n",
              "  </tbody>\n",
              "</table>\n",
              "</div>\n",
              "    <div class=\"colab-df-buttons\">\n",
              "\n",
              "  <div class=\"colab-df-container\">\n",
              "    <button class=\"colab-df-convert\" onclick=\"convertToInteractive('df-46d19e81-cecf-4fd2-8910-4a4004747d4e')\"\n",
              "            title=\"Convert this dataframe to an interactive table.\"\n",
              "            style=\"display:none;\">\n",
              "\n",
              "  <svg xmlns=\"http://www.w3.org/2000/svg\" height=\"24px\" viewBox=\"0 -960 960 960\">\n",
              "    <path d=\"M120-120v-720h720v720H120Zm60-500h600v-160H180v160Zm220 220h160v-160H400v160Zm0 220h160v-160H400v160ZM180-400h160v-160H180v160Zm440 0h160v-160H620v160ZM180-180h160v-160H180v160Zm440 0h160v-160H620v160Z\"/>\n",
              "  </svg>\n",
              "    </button>\n",
              "\n",
              "  <style>\n",
              "    .colab-df-container {\n",
              "      display:flex;\n",
              "      gap: 12px;\n",
              "    }\n",
              "\n",
              "    .colab-df-convert {\n",
              "      background-color: #E8F0FE;\n",
              "      border: none;\n",
              "      border-radius: 50%;\n",
              "      cursor: pointer;\n",
              "      display: none;\n",
              "      fill: #1967D2;\n",
              "      height: 32px;\n",
              "      padding: 0 0 0 0;\n",
              "      width: 32px;\n",
              "    }\n",
              "\n",
              "    .colab-df-convert:hover {\n",
              "      background-color: #E2EBFA;\n",
              "      box-shadow: 0px 1px 2px rgba(60, 64, 67, 0.3), 0px 1px 3px 1px rgba(60, 64, 67, 0.15);\n",
              "      fill: #174EA6;\n",
              "    }\n",
              "\n",
              "    .colab-df-buttons div {\n",
              "      margin-bottom: 4px;\n",
              "    }\n",
              "\n",
              "    [theme=dark] .colab-df-convert {\n",
              "      background-color: #3B4455;\n",
              "      fill: #D2E3FC;\n",
              "    }\n",
              "\n",
              "    [theme=dark] .colab-df-convert:hover {\n",
              "      background-color: #434B5C;\n",
              "      box-shadow: 0px 1px 3px 1px rgba(0, 0, 0, 0.15);\n",
              "      filter: drop-shadow(0px 1px 2px rgba(0, 0, 0, 0.3));\n",
              "      fill: #FFFFFF;\n",
              "    }\n",
              "  </style>\n",
              "\n",
              "    <script>\n",
              "      const buttonEl =\n",
              "        document.querySelector('#df-46d19e81-cecf-4fd2-8910-4a4004747d4e button.colab-df-convert');\n",
              "      buttonEl.style.display =\n",
              "        google.colab.kernel.accessAllowed ? 'block' : 'none';\n",
              "\n",
              "      async function convertToInteractive(key) {\n",
              "        const element = document.querySelector('#df-46d19e81-cecf-4fd2-8910-4a4004747d4e');\n",
              "        const dataTable =\n",
              "          await google.colab.kernel.invokeFunction('convertToInteractive',\n",
              "                                                    [key], {});\n",
              "        if (!dataTable) return;\n",
              "\n",
              "        const docLinkHtml = 'Like what you see? Visit the ' +\n",
              "          '<a target=\"_blank\" href=https://colab.research.google.com/notebooks/data_table.ipynb>data table notebook</a>'\n",
              "          + ' to learn more about interactive tables.';\n",
              "        element.innerHTML = '';\n",
              "        dataTable['output_type'] = 'display_data';\n",
              "        await google.colab.output.renderOutput(dataTable, element);\n",
              "        const docLink = document.createElement('div');\n",
              "        docLink.innerHTML = docLinkHtml;\n",
              "        element.appendChild(docLink);\n",
              "      }\n",
              "    </script>\n",
              "  </div>\n",
              "\n",
              "\n",
              "<div id=\"df-bae6b614-40e2-4afe-8fbd-391ad7bf8008\">\n",
              "  <button class=\"colab-df-quickchart\" onclick=\"quickchart('df-bae6b614-40e2-4afe-8fbd-391ad7bf8008')\"\n",
              "            title=\"Suggest charts\"\n",
              "            style=\"display:none;\">\n",
              "\n",
              "<svg xmlns=\"http://www.w3.org/2000/svg\" height=\"24px\"viewBox=\"0 0 24 24\"\n",
              "     width=\"24px\">\n",
              "    <g>\n",
              "        <path d=\"M19 3H5c-1.1 0-2 .9-2 2v14c0 1.1.9 2 2 2h14c1.1 0 2-.9 2-2V5c0-1.1-.9-2-2-2zM9 17H7v-7h2v7zm4 0h-2V7h2v10zm4 0h-2v-4h2v4z\"/>\n",
              "    </g>\n",
              "</svg>\n",
              "  </button>\n",
              "\n",
              "<style>\n",
              "  .colab-df-quickchart {\n",
              "      --bg-color: #E8F0FE;\n",
              "      --fill-color: #1967D2;\n",
              "      --hover-bg-color: #E2EBFA;\n",
              "      --hover-fill-color: #174EA6;\n",
              "      --disabled-fill-color: #AAA;\n",
              "      --disabled-bg-color: #DDD;\n",
              "  }\n",
              "\n",
              "  [theme=dark] .colab-df-quickchart {\n",
              "      --bg-color: #3B4455;\n",
              "      --fill-color: #D2E3FC;\n",
              "      --hover-bg-color: #434B5C;\n",
              "      --hover-fill-color: #FFFFFF;\n",
              "      --disabled-bg-color: #3B4455;\n",
              "      --disabled-fill-color: #666;\n",
              "  }\n",
              "\n",
              "  .colab-df-quickchart {\n",
              "    background-color: var(--bg-color);\n",
              "    border: none;\n",
              "    border-radius: 50%;\n",
              "    cursor: pointer;\n",
              "    display: none;\n",
              "    fill: var(--fill-color);\n",
              "    height: 32px;\n",
              "    padding: 0;\n",
              "    width: 32px;\n",
              "  }\n",
              "\n",
              "  .colab-df-quickchart:hover {\n",
              "    background-color: var(--hover-bg-color);\n",
              "    box-shadow: 0 1px 2px rgba(60, 64, 67, 0.3), 0 1px 3px 1px rgba(60, 64, 67, 0.15);\n",
              "    fill: var(--button-hover-fill-color);\n",
              "  }\n",
              "\n",
              "  .colab-df-quickchart-complete:disabled,\n",
              "  .colab-df-quickchart-complete:disabled:hover {\n",
              "    background-color: var(--disabled-bg-color);\n",
              "    fill: var(--disabled-fill-color);\n",
              "    box-shadow: none;\n",
              "  }\n",
              "\n",
              "  .colab-df-spinner {\n",
              "    border: 2px solid var(--fill-color);\n",
              "    border-color: transparent;\n",
              "    border-bottom-color: var(--fill-color);\n",
              "    animation:\n",
              "      spin 1s steps(1) infinite;\n",
              "  }\n",
              "\n",
              "  @keyframes spin {\n",
              "    0% {\n",
              "      border-color: transparent;\n",
              "      border-bottom-color: var(--fill-color);\n",
              "      border-left-color: var(--fill-color);\n",
              "    }\n",
              "    20% {\n",
              "      border-color: transparent;\n",
              "      border-left-color: var(--fill-color);\n",
              "      border-top-color: var(--fill-color);\n",
              "    }\n",
              "    30% {\n",
              "      border-color: transparent;\n",
              "      border-left-color: var(--fill-color);\n",
              "      border-top-color: var(--fill-color);\n",
              "      border-right-color: var(--fill-color);\n",
              "    }\n",
              "    40% {\n",
              "      border-color: transparent;\n",
              "      border-right-color: var(--fill-color);\n",
              "      border-top-color: var(--fill-color);\n",
              "    }\n",
              "    60% {\n",
              "      border-color: transparent;\n",
              "      border-right-color: var(--fill-color);\n",
              "    }\n",
              "    80% {\n",
              "      border-color: transparent;\n",
              "      border-right-color: var(--fill-color);\n",
              "      border-bottom-color: var(--fill-color);\n",
              "    }\n",
              "    90% {\n",
              "      border-color: transparent;\n",
              "      border-bottom-color: var(--fill-color);\n",
              "    }\n",
              "  }\n",
              "</style>\n",
              "\n",
              "  <script>\n",
              "    async function quickchart(key) {\n",
              "      const quickchartButtonEl =\n",
              "        document.querySelector('#' + key + ' button');\n",
              "      quickchartButtonEl.disabled = true;  // To prevent multiple clicks.\n",
              "      quickchartButtonEl.classList.add('colab-df-spinner');\n",
              "      try {\n",
              "        const charts = await google.colab.kernel.invokeFunction(\n",
              "            'suggestCharts', [key], {});\n",
              "      } catch (error) {\n",
              "        console.error('Error during call to suggestCharts:', error);\n",
              "      }\n",
              "      quickchartButtonEl.classList.remove('colab-df-spinner');\n",
              "      quickchartButtonEl.classList.add('colab-df-quickchart-complete');\n",
              "    }\n",
              "    (() => {\n",
              "      let quickchartButtonEl =\n",
              "        document.querySelector('#df-bae6b614-40e2-4afe-8fbd-391ad7bf8008 button');\n",
              "      quickchartButtonEl.style.display =\n",
              "        google.colab.kernel.accessAllowed ? 'block' : 'none';\n",
              "    })();\n",
              "  </script>\n",
              "</div>\n",
              "\n",
              "    </div>\n",
              "  </div>\n"
            ],
            "text/plain": [
              "   tweet-id                                         tweet-text tweet-author  \\\n",
              "0         1  Happy Twosday, people(s). That’s right, it’s 2...     Bill Nye   \n",
              "1         2  Dr. King would be 93 years old this week. The ...     Bill Nye   \n",
              "2         3  Happy Isaac Newton’s Birthday James Webb Space...     Bill Nye   \n",
              "3         4  Please, consider the following… my new VR Spac...     Bill Nye   \n",
              "4         5  Winter tornadoes… warm winter in the south & c...     Bill Nye   \n",
              "\n",
              "  tweet-timestamp-date  \n",
              "0           2022-02-22  \n",
              "1           2022-01-17  \n",
              "2           2021-12-25  \n",
              "3           2021-12-14  \n",
              "4           2021-12-12  "
            ]
          },
          "execution_count": 17,
          "metadata": {},
          "output_type": "execute_result"
        }
      ],
      "source": [
        "data = read_twitter_data(billnye_url)\n",
        "data.head()"
      ]
    },
    {
      "cell_type": "markdown",
      "metadata": {
        "id": "AuRkOKw05Ymy"
      },
      "source": [
        "## Text Preprocessing\n",
        "The given code is a text preprocessing pipeline designed to clean and prepare raw text data for Natural Language Processing (NLP) tasks. This pipeline removes noise and standardizes text for further analysis, such as topic modeling (e.g., LDA), sentiment analysis, or machine learning models.\n",
        "\n",
        "1.\tTokenization & Lowercasing\n",
        "\t  - The input text is converted to lowercase to ensure case-insensitive processing.\n",
        "\t  - All punctuation is removed using regular expressions (re.sub).\n",
        "2.\tStop Word Removal\n",
        "\t- \tCommon stop words (e.g., “the”, “is”, “and”) that do not contribute meaningful information are removed.\n",
        "3.\tLemmatization\n",
        "\t- \tWords are reduced to their base (root) form using the WordNet Lemmatizer, which helps unify different word forms.\n",
        "\t- \tExample: \"running\" → \"run\", \"better\" → \"good\".\n",
        "4.\tFiltering Verbs and Nouns\n",
        "\t- \tThe function leave_verb_noun(text) retains only nouns and verbs since they are often the most informative parts of a sentence.\n",
        "5.\tRemoving Numbers & Short Words\n",
        "\t- \tAny numbers in the text are removed.\n",
        "\t- \tShort words (length ≤ 2) are filtered out, as they often do not carry meaningful information."
      ]
    },
    {
      "cell_type": "code",
      "execution_count": null,
      "metadata": {
        "colab": {
          "base_uri": "https://localhost:8080/"
        },
        "id": "gZiTk7F55Utj",
        "outputId": "696c64e2-2bdd-4a08-d803-fb40304214c7"
      },
      "outputs": [
        {
          "name": "stdout",
          "output_type": "stream",
          "text": [
            "Before: \n",
            "Please, consider the following… my new VR Space Lab is available now on Amazon – and nominated for Toy of the Year!  85 piece set, with hands on experiments and VR goggles to step into my spaceship in virtual reality. \n",
            "After: \n",
            "['consider', 'follow', 'space', 'year', 'piece', 'set', 'hand', 'experiment', 'goggle', 'step', 'spaceship', 'reality']\n"
          ]
        },
        {
          "name": "stderr",
          "output_type": "stream",
          "text": [
            "/usr/local/lib/python3.11/dist-packages/ipykernel/ipkernel.py:283: DeprecationWarning: `should_run_async` will not call `transform_cell` automatically in the future. Please pass the result to `transformed_cell` argument and any exception that happen during thetransform in `preprocessing_exc_tuple` in IPython 7.17 and above.\n",
            "  and should_run_async(code)\n"
          ]
        }
      ],
      "source": [
        "def leave_verb_noun(text):\n",
        "    doc = nlp(' '.join(text).lower())\n",
        "    words = [token.lemma_ for token in doc if token.pos_ in [\"NOUN\", \"VERB\"] and not token.is_stop and not token.is_punct]\n",
        "    return words\n",
        "\n",
        "\n",
        "def text_prep(text):\n",
        "    # Remove punctuation / change to lower case\n",
        "    text = re.sub(r'[^\\w\\s]', '', str.lower(text))\n",
        "\n",
        "    # Remove stop words\n",
        "    clean_text = parsing.preprocessing.remove_stopwords(text)\n",
        "\n",
        "\n",
        "    # lemmatization\n",
        "    lemmatizer = WordNetLemmatizer()\n",
        "    lem_text = [lemmatizer.lemmatize(word) for word in word_tokenize(clean_text)]\n",
        "\n",
        "    # Leave Verb and Noun Only\n",
        "    VN_text = leave_verb_noun(lem_text)\n",
        "\n",
        "    # Remove Numbers & Short word\n",
        "    prep_text = [re.sub(r'\\d+', '', word) for word in VN_text if len(word) > 2]\n",
        "\n",
        "    return prep_text\n",
        "\n",
        "print('Before: ', data['tweet-text'][3], sep='\\n')\n",
        "print('After: ', text_prep(data['tweet-text'][3]), sep='\\n')\n"
      ]
    },
    {
      "cell_type": "code",
      "execution_count": null,
      "metadata": {
        "colab": {
          "base_uri": "https://localhost:8080/"
        },
        "id": "h6G7LxMK58MU",
        "outputId": "7a59975c-0236-4714-f970-81cf638ad34a"
      },
      "outputs": [
        {
          "name": "stderr",
          "output_type": "stream",
          "text": [
            "/usr/local/lib/python3.11/dist-packages/ipykernel/ipkernel.py:283: DeprecationWarning: `should_run_async` will not call `transform_cell` automatically in the future. Please pass the result to `transformed_cell` argument and any exception that happen during thetransform in `preprocessing_exc_tuple` in IPython 7.17 and above.\n",
            "  and should_run_async(code)\n"
          ]
        }
      ],
      "source": [
        "data['prep-tweet-text'] = data['tweet-text'].apply(lambda x:text_prep(x))"
      ]
    },
    {
      "cell_type": "markdown",
      "metadata": {
        "id": "9Ndbvrxd6AQd"
      },
      "source": [
        "### LDA Model Preprocess"
      ]
    },
    {
      "cell_type": "markdown",
      "metadata": {
        "id": "x5rj3Hb76FS4"
      },
      "source": [
        "Bag of Words Format Transform"
      ]
    },
    {
      "cell_type": "code",
      "execution_count": null,
      "metadata": {
        "colab": {
          "base_uri": "https://localhost:8080/"
        },
        "id": "NvdjpbLN5_sT",
        "outputId": "cc1d237e-44b6-4630-dd24-12f7cbdd78bf"
      },
      "outputs": [
        {
          "name": "stderr",
          "output_type": "stream",
          "text": [
            "/usr/local/lib/python3.11/dist-packages/ipykernel/ipkernel.py:283: DeprecationWarning: `should_run_async` will not call `transform_cell` automatically in the future. Please pass the result to `transformed_cell` argument and any exception that happen during thetransform in `preprocessing_exc_tuple` in IPython 7.17 and above.\n",
            "  and should_run_async(code)\n"
          ]
        }
      ],
      "source": [
        "texts = data['prep-tweet-text']\n",
        "dictionary = corpora.Dictionary(texts)\n",
        "corpus = [dictionary.doc2bow(text) for text in texts]"
      ]
    },
    {
      "cell_type": "markdown",
      "metadata": {
        "id": "eE3uvKiH6KAq"
      },
      "source": [
        "### Optimized LDA Model Parameters\n",
        "\n",
        "Using [Optuna](https://optuna.org/) to make parameters trials to find the best parameters set.\n",
        "\n",
        "Parameters Select:\n",
        "| **Parameter**   | **Description**                           | **Range**   | **Impact**  |\n",
        "|---------------|-----------------------------------|-----------|------------|\n",
        "| `num_topics`  | Number of topics in LDA         | 2 - 10    | Controls topic granularity |\n",
        "| `alpha`       | Document-topic distribution smoothing | 0.01 - 1.0 | Higher values distribute topics more evenly across documents |\n",
        "| `passes`      | Number of training passes       | 5 - 20    | More passes improve learning but increase training time |\n",
        "| `iteration`   | Iterations per pass             | 50 - 200  | More iterations improve model quality but slow down training |\n",
        "\n",
        "\n",
        "#### **Objective Function Calculation**\n",
        "The objective function is designed to **maximize coherence score** while **minimizing perplexity and training time**:\n",
        "\n",
        "$\n",
        "\\text{objective value} = (1 - \\text{coherence score}) * 0.7 + \\text{normalized perplexity} * \\lambda_{\\text{perplexity}} + \\text{normalized train time} * \\lambda{\\text{time}}\n",
        "$\n",
        "\n",
        "#### **Explanation of Terms:**\n",
        "- **Coherence Score (`coherence_score`)** → Higher values indicate better topic quality.\n",
        "- **Perplexity (`normalized_perplexity`)** → Lower values indicate better topic modeling.\n",
        "- **Training Time (`normalized_train_time`)** → Lower values indicate faster training efficiency.\n",
        "- **Weights:**\n",
        "  - $0.7$ → Prioritizes coherence score.\n",
        "  - $λ_{\\text{perplexity}}$ → Controls the weight of perplexity.\n",
        "  - $λ_{\\text{time}}$ → Controls the weight of training time.\n",
        "\n",
        "#### **Target:**\n",
        "- **Minimize `objective_value`** to find the best hyperparameter combination.\n"
      ]
    },
    {
      "cell_type": "code",
      "execution_count": null,
      "metadata": {
        "colab": {
          "base_uri": "https://localhost:8080/"
        },
        "id": "TxXPoU_C6PX7",
        "outputId": "8a4cb217-4a25-41ff-8da4-be51274a0b38"
      },
      "outputs": [
        {
          "name": "stderr",
          "output_type": "stream",
          "text": [
            "/usr/local/lib/python3.11/dist-packages/ipykernel/ipkernel.py:283: DeprecationWarning: `should_run_async` will not call `transform_cell` automatically in the future. Please pass the result to `transformed_cell` argument and any exception that happen during thetransform in `preprocessing_exc_tuple` in IPython 7.17 and above.\n",
            "  and should_run_async(code)\n"
          ]
        }
      ],
      "source": [
        "# Normalize  Perplexity & Train_time\n",
        "min_perplexity, max_perplexity = 100, 2000\n",
        "\n",
        "min_train_time, max_train_time = 1, 100\n",
        "\n",
        "\n",
        "def objective(trial):\n",
        "    num_topics = trial.suggest_int('num_topics', 3, 7)\n",
        "\n",
        "    # Tweets are short articel, we prefer alpha not over 1\n",
        "    alpha = trial.suggest_float('alpha', 0.01, 1.0, log=True)\n",
        "\n",
        "    passes = trial.suggest_int('passes', 5, 20)\n",
        "\n",
        "    iteration = trial.suggest_int('iteration', 50, 200)\n",
        "\n",
        "    start_time = time.time()\n",
        "\n",
        "    lda_model = models.LdaModel(\n",
        "        corpus=corpus,\n",
        "        id2word=dictionary,\n",
        "        num_topics=num_topics,\n",
        "        alpha=alpha,\n",
        "        eta='auto',\n",
        "        passes=passes,\n",
        "        iterations=iteration,\n",
        "        random_state=42\n",
        "    )\n",
        "\n",
        "    # Multi-Objective Values\n",
        "    # 1. Calcualte Coherence Score\n",
        "    coherence_model = models.CoherenceModel(model=lda_model, texts=texts, dictionary=dictionary, coherence='c_v')\n",
        "    coherence_score = coherence_model.get_coherence()\n",
        "\n",
        "    # 2. Perplexity Score\n",
        "    perplexity = lda_model.log_perplexity(corpus)\n",
        "    normalized_perplexity = (perplexity - min_perplexity) / (max_perplexity - min_perplexity)\n",
        "\n",
        "\n",
        "    # 3. Time\n",
        "    train_time = time.time() - start_time\n",
        "    normalized_train_time = (train_time - min_train_time) / (max_train_time - min_train_time)\n",
        "\n",
        "\n",
        "    # Create Objective Function to implement Maximize Coherence Value & Minimize Training Time\n",
        "    _lambda_perplexity = 0.2\n",
        "    _lambda_time = 0.05\n",
        "\n",
        "    objective_value = (1 - coherence_score) * 0.7 + normalized_perplexity * _lambda_perplexity + normalized_train_time * _lambda_time\n",
        "\n",
        "    # Minimum objective_value\n",
        "    return objective_value"
      ]
    },
    {
      "cell_type": "markdown",
      "metadata": {
        "id": "hAMU7N-16_eS"
      },
      "source": [
        "### Start Optimizing"
      ]
    },
    {
      "cell_type": "code",
      "execution_count": null,
      "metadata": {
        "colab": {
          "base_uri": "https://localhost:8080/",
          "height": 444,
          "referenced_widgets": [
            "0d5fa341c09f45a0a5a6aacebdf5cacf",
            "7014bd88efca4adbb3797cd746ce4b24",
            "11697b1a815943b69204e2e841830c49",
            "41ec826d701447ec91f75506dc73a990",
            "a37956b685e7410689af5b3dfbd2e876",
            "341dcef289d64f1ca3ad891da85fe7f6",
            "55305a0a67354848b8886902c1a8d611",
            "f0d17da132df4f1fbc7496f1be9d4df9",
            "46bf856c6f4048d4986b41ca70e997d8",
            "e4293603e6254ea49ef4fc4b2619cc17",
            "eb5d0a9a14974ba88bbddce4076404f6"
          ]
        },
        "id": "BKa4Focn7CF9",
        "outputId": "5a3dc373-c439-400e-dd69-4866370db64b"
      },
      "outputs": [
        {
          "name": "stderr",
          "output_type": "stream",
          "text": [
            "/usr/local/lib/python3.11/dist-packages/ipykernel/ipkernel.py:283: DeprecationWarning: `should_run_async` will not call `transform_cell` automatically in the future. Please pass the result to `transformed_cell` argument and any exception that happen during thetransform in `preprocessing_exc_tuple` in IPython 7.17 and above.\n",
            "  and should_run_async(code)\n"
          ]
        },
        {
          "data": {
            "application/vnd.jupyter.widget-view+json": {
              "model_id": "0d5fa341c09f45a0a5a6aacebdf5cacf",
              "version_major": 2,
              "version_minor": 0
            },
            "text/plain": [
              "  0%|          | 0/40 [00:00<?, ?it/s]"
            ]
          },
          "metadata": {},
          "output_type": "display_data"
        },
        {
          "name": "stderr",
          "output_type": "stream",
          "text": [
            "WARNING:gensim.models.ldamodel:too few updates, training might not converge; consider increasing the number of passes or iterations to improve accuracy\n",
            "WARNING:gensim.models.ldamodel:too few updates, training might not converge; consider increasing the number of passes or iterations to improve accuracy\n",
            "WARNING:gensim.models.ldamodel:too few updates, training might not converge; consider increasing the number of passes or iterations to improve accuracy\n",
            "WARNING:gensim.models.ldamodel:too few updates, training might not converge; consider increasing the number of passes or iterations to improve accuracy\n",
            "WARNING:gensim.models.ldamodel:too few updates, training might not converge; consider increasing the number of passes or iterations to improve accuracy\n",
            "WARNING:gensim.models.ldamodel:too few updates, training might not converge; consider increasing the number of passes or iterations to improve accuracy\n",
            "WARNING:gensim.models.ldamodel:too few updates, training might not converge; consider increasing the number of passes or iterations to improve accuracy\n",
            "WARNING:gensim.models.ldamodel:too few updates, training might not converge; consider increasing the number of passes or iterations to improve accuracy\n",
            "WARNING:gensim.models.ldamodel:too few updates, training might not converge; consider increasing the number of passes or iterations to improve accuracy\n",
            "WARNING:gensim.models.ldamodel:too few updates, training might not converge; consider increasing the number of passes or iterations to improve accuracy\n",
            "WARNING:gensim.models.ldamodel:too few updates, training might not converge; consider increasing the number of passes or iterations to improve accuracy\n",
            "WARNING:gensim.models.ldamodel:too few updates, training might not converge; consider increasing the number of passes or iterations to improve accuracy\n",
            "WARNING:gensim.models.ldamodel:too few updates, training might not converge; consider increasing the number of passes or iterations to improve accuracy\n",
            "WARNING:gensim.models.ldamodel:too few updates, training might not converge; consider increasing the number of passes or iterations to improve accuracy\n",
            "WARNING:gensim.models.ldamodel:too few updates, training might not converge; consider increasing the number of passes or iterations to improve accuracy\n",
            "WARNING:gensim.models.ldamodel:too few updates, training might not converge; consider increasing the number of passes or iterations to improve accuracy\n"
          ]
        },
        {
          "name": "stdout",
          "output_type": "stream",
          "text": [
            "Best Parameters:\n",
            "{'num_topics': 5, 'alpha': 0.12392086714794368, 'passes': 14, 'iteration': 116}\n",
            "Best Objective Value: 0.3519463976624172\n"
          ]
        }
      ],
      "source": [
        "# Remove note to view the optimizing process\n",
        "optuna.logging.set_verbosity(optuna.logging.WARNING)\n",
        "\n",
        "# Trial Params Defined\n",
        "study = optuna.create_study(direction='minimize')\n",
        "study.optimize(objective, n_trials=40, show_progress_bar=True)\n",
        "\n",
        "# Show Result\n",
        "print(\"Best Parameters:\")\n",
        "print(study.best_params)\n",
        "\n",
        "print(\"Best Objective Value:\", study.best_value)"
      ]
    },
    {
      "cell_type": "markdown",
      "metadata": {
        "id": "Hk6npi9N8UMw"
      },
      "source": [
        "**Parameters Trial Visulization**\n",
        "\n",
        "This chart provide the parameters values set in different trail. It can help better visualize which combination of params can provides better result with objective value. In this case, the lower objective value provide better consequence result."
      ]
    },
    {
      "cell_type": "code",
      "execution_count": null,
      "metadata": {
        "colab": {
          "base_uri": "https://localhost:8080/",
          "height": 598
        },
        "id": "QAudvBnK7Zbq",
        "outputId": "1f1baf69-0cd4-440b-8319-6c5b06a61da8"
      },
      "outputs": [
        {
          "name": "stderr",
          "output_type": "stream",
          "text": [
            "/usr/local/lib/python3.11/dist-packages/ipykernel/ipkernel.py:283: DeprecationWarning: `should_run_async` will not call `transform_cell` automatically in the future. Please pass the result to `transformed_cell` argument and any exception that happen during thetransform in `preprocessing_exc_tuple` in IPython 7.17 and above.\n",
            "  and should_run_async(code)\n"
          ]
        },
        {
          "data": {
            "text/html": [
              "<html>\n",
              "<head><meta charset=\"utf-8\" /></head>\n",
              "<body>\n",
              "    <div>            <script src=\"https://cdnjs.cloudflare.com/ajax/libs/mathjax/2.7.5/MathJax.js?config=TeX-AMS-MML_SVG\"></script><script type=\"text/javascript\">if (window.MathJax && window.MathJax.Hub && window.MathJax.Hub.Config) {window.MathJax.Hub.Config({SVG: {font: \"STIX-Web\"}});}</script>                <script type=\"text/javascript\">window.PlotlyConfig = {MathJaxConfig: 'local'};</script>\n",
              "        <script charset=\"utf-8\" src=\"https://cdn.plot.ly/plotly-2.35.2.min.js\"></script>                <div id=\"f7723387-afaf-498e-97be-034caf51fb10\" class=\"plotly-graph-div\" style=\"height:525px; width:100%;\"></div>            <script type=\"text/javascript\">                                    window.PLOTLYENV=window.PLOTLYENV || {};                                    if (document.getElementById(\"f7723387-afaf-498e-97be-034caf51fb10\")) {                    Plotly.newPlot(                        \"f7723387-afaf-498e-97be-034caf51fb10\",                        [{\"dimensions\":[{\"label\":\"Objective Value\",\"range\":[0.3519463976624172,0.41470383203270317],\"values\":[0.4062525996050356,0.40230326582718356,0.39565885334377854,0.3801189778256017,0.40178586287722096,0.3519463976624172,0.3770144849326036,0.38834718289561637,0.38750110132167076,0.39061481559500794,0.39970328760848606,0.3715315464429099,0.38145179916049127,0.39080548197173937,0.38859208528285927,0.38056332670546344,0.40214921271549253,0.37923915683917037,0.3781221529739786,0.38554733041569555,0.3913244225181051,0.37318606313921693,0.3721551614739307,0.3826210182292584,0.3872267878857451,0.3812032499950424,0.3644826864604646,0.3808279495503445,0.39610976203954906,0.3866654978860573,0.41010777335406723,0.37713260512582003,0.38768800841672374,0.3538976216256825,0.36636635339521806,0.3839951588596258,0.3597292117818203,0.3725933230251341,0.35654704960478933,0.41470383203270317]},{\"label\":\"alpha\",\"range\":[-1.9441507947503958,-0.11992030086209067],\"ticktext\":[\"0.0114\",\"0.1\",\"0.759\"],\"tickvals\":[-1.9441507947503958,-1,-0.11992030086209067],\"values\":[-1.9204489784602434,-1.6992591645539512,-0.11992030086209067,-1.1420140232087344,-0.7125475204194527,-0.9068555562216611,-0.496985952469856,-1.6424494480017082,-0.38511709354871304,-0.1335377259308517,-1.1197793333456438,-0.7022813789985324,-0.8600503164910388,-1.2596385637123095,-0.6199412249273034,-1.359723297500871,-0.9253419490739716,-0.3226985252948645,-0.7642735478101806,-0.9749604530151084,-1.4401730565626092,-0.5118989361034789,-0.5260002514100296,-0.2988785695534886,-0.6038726312996677,-0.806975414529385,-1.0884607669443842,-1.110593383219897,-1.0339581899007084,-1.9441507947503958,-1.4620318773861807,-0.6702730721497507,-0.45815000288834584,-0.903123764383186,-1.2413047474838734,-1.2824427318015894,-1.606693822026925,-1.7787549509968366,-1.7227668557396731,-1.603041411917008]},{\"label\":\"iteration\",\"range\":[52,198],\"values\":[142,104,176,87,67,116,64,57,90,170,133,114,117,147,104,153,198,120,82,105,125,70,76,95,78,113,160,160,134,189,141,52,135,165,172,178,166,157,182,197]},{\"label\":\"num_topics\",\"range\":[3,7],\"values\":[3,7,6,4,6,5,5,5,5,5,3,4,4,4,6,4,3,7,4,6,4,5,5,5,6,4,5,5,3,4,3,5,6,5,5,6,5,6,5,7]},{\"label\":\"passes\",\"range\":[5,20],\"values\":[19,15,11,10,9,14,8,18,8,9,14,5,5,5,15,13,17,12,16,7,12,7,6,6,20,5,10,11,13,14,11,6,7,9,10,10,10,9,11,11]}],\"labelangle\":30,\"labelside\":\"bottom\",\"line\":{\"color\":[0.4062525996050356,0.40230326582718356,0.39565885334377854,0.3801189778256017,0.40178586287722096,0.3519463976624172,0.3770144849326036,0.38834718289561637,0.38750110132167076,0.39061481559500794,0.39970328760848606,0.3715315464429099,0.38145179916049127,0.39080548197173937,0.38859208528285927,0.38056332670546344,0.40214921271549253,0.37923915683917037,0.3781221529739786,0.38554733041569555,0.3913244225181051,0.37318606313921693,0.3721551614739307,0.3826210182292584,0.3872267878857451,0.3812032499950424,0.3644826864604646,0.3808279495503445,0.39610976203954906,0.3866654978860573,0.41010777335406723,0.37713260512582003,0.38768800841672374,0.3538976216256825,0.36636635339521806,0.3839951588596258,0.3597292117818203,0.3725933230251341,0.35654704960478933,0.41470383203270317],\"colorbar\":{\"title\":{\"text\":\"Objective Value\"}},\"colorscale\":[[0.0,\"rgb(247,251,255)\"],[0.125,\"rgb(222,235,247)\"],[0.25,\"rgb(198,219,239)\"],[0.375,\"rgb(158,202,225)\"],[0.5,\"rgb(107,174,214)\"],[0.625,\"rgb(66,146,198)\"],[0.75,\"rgb(33,113,181)\"],[0.875,\"rgb(8,81,156)\"],[1.0,\"rgb(8,48,107)\"]],\"reversescale\":true,\"showscale\":true},\"type\":\"parcoords\"}],                        {\"title\":{\"text\":\"Parallel Coordinate Plot\"},\"template\":{\"data\":{\"histogram2dcontour\":[{\"type\":\"histogram2dcontour\",\"colorbar\":{\"outlinewidth\":0,\"ticks\":\"\"},\"colorscale\":[[0.0,\"#0d0887\"],[0.1111111111111111,\"#46039f\"],[0.2222222222222222,\"#7201a8\"],[0.3333333333333333,\"#9c179e\"],[0.4444444444444444,\"#bd3786\"],[0.5555555555555556,\"#d8576b\"],[0.6666666666666666,\"#ed7953\"],[0.7777777777777778,\"#fb9f3a\"],[0.8888888888888888,\"#fdca26\"],[1.0,\"#f0f921\"]]}],\"choropleth\":[{\"type\":\"choropleth\",\"colorbar\":{\"outlinewidth\":0,\"ticks\":\"\"}}],\"histogram2d\":[{\"type\":\"histogram2d\",\"colorbar\":{\"outlinewidth\":0,\"ticks\":\"\"},\"colorscale\":[[0.0,\"#0d0887\"],[0.1111111111111111,\"#46039f\"],[0.2222222222222222,\"#7201a8\"],[0.3333333333333333,\"#9c179e\"],[0.4444444444444444,\"#bd3786\"],[0.5555555555555556,\"#d8576b\"],[0.6666666666666666,\"#ed7953\"],[0.7777777777777778,\"#fb9f3a\"],[0.8888888888888888,\"#fdca26\"],[1.0,\"#f0f921\"]]}],\"heatmap\":[{\"type\":\"heatmap\",\"colorbar\":{\"outlinewidth\":0,\"ticks\":\"\"},\"colorscale\":[[0.0,\"#0d0887\"],[0.1111111111111111,\"#46039f\"],[0.2222222222222222,\"#7201a8\"],[0.3333333333333333,\"#9c179e\"],[0.4444444444444444,\"#bd3786\"],[0.5555555555555556,\"#d8576b\"],[0.6666666666666666,\"#ed7953\"],[0.7777777777777778,\"#fb9f3a\"],[0.8888888888888888,\"#fdca26\"],[1.0,\"#f0f921\"]]}],\"heatmapgl\":[{\"type\":\"heatmapgl\",\"colorbar\":{\"outlinewidth\":0,\"ticks\":\"\"},\"colorscale\":[[0.0,\"#0d0887\"],[0.1111111111111111,\"#46039f\"],[0.2222222222222222,\"#7201a8\"],[0.3333333333333333,\"#9c179e\"],[0.4444444444444444,\"#bd3786\"],[0.5555555555555556,\"#d8576b\"],[0.6666666666666666,\"#ed7953\"],[0.7777777777777778,\"#fb9f3a\"],[0.8888888888888888,\"#fdca26\"],[1.0,\"#f0f921\"]]}],\"contourcarpet\":[{\"type\":\"contourcarpet\",\"colorbar\":{\"outlinewidth\":0,\"ticks\":\"\"}}],\"contour\":[{\"type\":\"contour\",\"colorbar\":{\"outlinewidth\":0,\"ticks\":\"\"},\"colorscale\":[[0.0,\"#0d0887\"],[0.1111111111111111,\"#46039f\"],[0.2222222222222222,\"#7201a8\"],[0.3333333333333333,\"#9c179e\"],[0.4444444444444444,\"#bd3786\"],[0.5555555555555556,\"#d8576b\"],[0.6666666666666666,\"#ed7953\"],[0.7777777777777778,\"#fb9f3a\"],[0.8888888888888888,\"#fdca26\"],[1.0,\"#f0f921\"]]}],\"surface\":[{\"type\":\"surface\",\"colorbar\":{\"outlinewidth\":0,\"ticks\":\"\"},\"colorscale\":[[0.0,\"#0d0887\"],[0.1111111111111111,\"#46039f\"],[0.2222222222222222,\"#7201a8\"],[0.3333333333333333,\"#9c179e\"],[0.4444444444444444,\"#bd3786\"],[0.5555555555555556,\"#d8576b\"],[0.6666666666666666,\"#ed7953\"],[0.7777777777777778,\"#fb9f3a\"],[0.8888888888888888,\"#fdca26\"],[1.0,\"#f0f921\"]]}],\"mesh3d\":[{\"type\":\"mesh3d\",\"colorbar\":{\"outlinewidth\":0,\"ticks\":\"\"}}],\"scatter\":[{\"fillpattern\":{\"fillmode\":\"overlay\",\"size\":10,\"solidity\":0.2},\"type\":\"scatter\"}],\"parcoords\":[{\"type\":\"parcoords\",\"line\":{\"colorbar\":{\"outlinewidth\":0,\"ticks\":\"\"}}}],\"scatterpolargl\":[{\"type\":\"scatterpolargl\",\"marker\":{\"colorbar\":{\"outlinewidth\":0,\"ticks\":\"\"}}}],\"bar\":[{\"error_x\":{\"color\":\"#2a3f5f\"},\"error_y\":{\"color\":\"#2a3f5f\"},\"marker\":{\"line\":{\"color\":\"#E5ECF6\",\"width\":0.5},\"pattern\":{\"fillmode\":\"overlay\",\"size\":10,\"solidity\":0.2}},\"type\":\"bar\"}],\"scattergeo\":[{\"type\":\"scattergeo\",\"marker\":{\"colorbar\":{\"outlinewidth\":0,\"ticks\":\"\"}}}],\"scatterpolar\":[{\"type\":\"scatterpolar\",\"marker\":{\"colorbar\":{\"outlinewidth\":0,\"ticks\":\"\"}}}],\"histogram\":[{\"marker\":{\"pattern\":{\"fillmode\":\"overlay\",\"size\":10,\"solidity\":0.2}},\"type\":\"histogram\"}],\"scattergl\":[{\"type\":\"scattergl\",\"marker\":{\"colorbar\":{\"outlinewidth\":0,\"ticks\":\"\"}}}],\"scatter3d\":[{\"type\":\"scatter3d\",\"line\":{\"colorbar\":{\"outlinewidth\":0,\"ticks\":\"\"}},\"marker\":{\"colorbar\":{\"outlinewidth\":0,\"ticks\":\"\"}}}],\"scattermapbox\":[{\"type\":\"scattermapbox\",\"marker\":{\"colorbar\":{\"outlinewidth\":0,\"ticks\":\"\"}}}],\"scatterternary\":[{\"type\":\"scatterternary\",\"marker\":{\"colorbar\":{\"outlinewidth\":0,\"ticks\":\"\"}}}],\"scattercarpet\":[{\"type\":\"scattercarpet\",\"marker\":{\"colorbar\":{\"outlinewidth\":0,\"ticks\":\"\"}}}],\"carpet\":[{\"aaxis\":{\"endlinecolor\":\"#2a3f5f\",\"gridcolor\":\"white\",\"linecolor\":\"white\",\"minorgridcolor\":\"white\",\"startlinecolor\":\"#2a3f5f\"},\"baxis\":{\"endlinecolor\":\"#2a3f5f\",\"gridcolor\":\"white\",\"linecolor\":\"white\",\"minorgridcolor\":\"white\",\"startlinecolor\":\"#2a3f5f\"},\"type\":\"carpet\"}],\"table\":[{\"cells\":{\"fill\":{\"color\":\"#EBF0F8\"},\"line\":{\"color\":\"white\"}},\"header\":{\"fill\":{\"color\":\"#C8D4E3\"},\"line\":{\"color\":\"white\"}},\"type\":\"table\"}],\"barpolar\":[{\"marker\":{\"line\":{\"color\":\"#E5ECF6\",\"width\":0.5},\"pattern\":{\"fillmode\":\"overlay\",\"size\":10,\"solidity\":0.2}},\"type\":\"barpolar\"}],\"pie\":[{\"automargin\":true,\"type\":\"pie\"}]},\"layout\":{\"autotypenumbers\":\"strict\",\"colorway\":[\"#636efa\",\"#EF553B\",\"#00cc96\",\"#ab63fa\",\"#FFA15A\",\"#19d3f3\",\"#FF6692\",\"#B6E880\",\"#FF97FF\",\"#FECB52\"],\"font\":{\"color\":\"#2a3f5f\"},\"hovermode\":\"closest\",\"hoverlabel\":{\"align\":\"left\"},\"paper_bgcolor\":\"white\",\"plot_bgcolor\":\"#E5ECF6\",\"polar\":{\"bgcolor\":\"#E5ECF6\",\"angularaxis\":{\"gridcolor\":\"white\",\"linecolor\":\"white\",\"ticks\":\"\"},\"radialaxis\":{\"gridcolor\":\"white\",\"linecolor\":\"white\",\"ticks\":\"\"}},\"ternary\":{\"bgcolor\":\"#E5ECF6\",\"aaxis\":{\"gridcolor\":\"white\",\"linecolor\":\"white\",\"ticks\":\"\"},\"baxis\":{\"gridcolor\":\"white\",\"linecolor\":\"white\",\"ticks\":\"\"},\"caxis\":{\"gridcolor\":\"white\",\"linecolor\":\"white\",\"ticks\":\"\"}},\"coloraxis\":{\"colorbar\":{\"outlinewidth\":0,\"ticks\":\"\"}},\"colorscale\":{\"sequential\":[[0.0,\"#0d0887\"],[0.1111111111111111,\"#46039f\"],[0.2222222222222222,\"#7201a8\"],[0.3333333333333333,\"#9c179e\"],[0.4444444444444444,\"#bd3786\"],[0.5555555555555556,\"#d8576b\"],[0.6666666666666666,\"#ed7953\"],[0.7777777777777778,\"#fb9f3a\"],[0.8888888888888888,\"#fdca26\"],[1.0,\"#f0f921\"]],\"sequentialminus\":[[0.0,\"#0d0887\"],[0.1111111111111111,\"#46039f\"],[0.2222222222222222,\"#7201a8\"],[0.3333333333333333,\"#9c179e\"],[0.4444444444444444,\"#bd3786\"],[0.5555555555555556,\"#d8576b\"],[0.6666666666666666,\"#ed7953\"],[0.7777777777777778,\"#fb9f3a\"],[0.8888888888888888,\"#fdca26\"],[1.0,\"#f0f921\"]],\"diverging\":[[0,\"#8e0152\"],[0.1,\"#c51b7d\"],[0.2,\"#de77ae\"],[0.3,\"#f1b6da\"],[0.4,\"#fde0ef\"],[0.5,\"#f7f7f7\"],[0.6,\"#e6f5d0\"],[0.7,\"#b8e186\"],[0.8,\"#7fbc41\"],[0.9,\"#4d9221\"],[1,\"#276419\"]]},\"xaxis\":{\"gridcolor\":\"white\",\"linecolor\":\"white\",\"ticks\":\"\",\"title\":{\"standoff\":15},\"zerolinecolor\":\"white\",\"automargin\":true,\"zerolinewidth\":2},\"yaxis\":{\"gridcolor\":\"white\",\"linecolor\":\"white\",\"ticks\":\"\",\"title\":{\"standoff\":15},\"zerolinecolor\":\"white\",\"automargin\":true,\"zerolinewidth\":2},\"scene\":{\"xaxis\":{\"backgroundcolor\":\"#E5ECF6\",\"gridcolor\":\"white\",\"linecolor\":\"white\",\"showbackground\":true,\"ticks\":\"\",\"zerolinecolor\":\"white\",\"gridwidth\":2},\"yaxis\":{\"backgroundcolor\":\"#E5ECF6\",\"gridcolor\":\"white\",\"linecolor\":\"white\",\"showbackground\":true,\"ticks\":\"\",\"zerolinecolor\":\"white\",\"gridwidth\":2},\"zaxis\":{\"backgroundcolor\":\"#E5ECF6\",\"gridcolor\":\"white\",\"linecolor\":\"white\",\"showbackground\":true,\"ticks\":\"\",\"zerolinecolor\":\"white\",\"gridwidth\":2}},\"shapedefaults\":{\"line\":{\"color\":\"#2a3f5f\"}},\"annotationdefaults\":{\"arrowcolor\":\"#2a3f5f\",\"arrowhead\":0,\"arrowwidth\":1},\"geo\":{\"bgcolor\":\"white\",\"landcolor\":\"#E5ECF6\",\"subunitcolor\":\"white\",\"showland\":true,\"showlakes\":true,\"lakecolor\":\"white\"},\"title\":{\"x\":0.05},\"mapbox\":{\"style\":\"light\"}}}},                        {\"responsive\": true}                    ).then(function(){\n",
              "                            \n",
              "var gd = document.getElementById('f7723387-afaf-498e-97be-034caf51fb10');\n",
              "var x = new MutationObserver(function (mutations, observer) {{\n",
              "        var display = window.getComputedStyle(gd).display;\n",
              "        if (!display || display === 'none') {{\n",
              "            console.log([gd, 'removed!']);\n",
              "            Plotly.purge(gd);\n",
              "            observer.disconnect();\n",
              "        }}\n",
              "}});\n",
              "\n",
              "// Listen for the removal of the full notebook cells\n",
              "var notebookContainer = gd.closest('#notebook-container');\n",
              "if (notebookContainer) {{\n",
              "    x.observe(notebookContainer, {childList: true});\n",
              "}}\n",
              "\n",
              "// Listen for the clearing of the current output cell\n",
              "var outputEl = gd.closest('.output');\n",
              "if (outputEl) {{\n",
              "    x.observe(outputEl, {childList: true});\n",
              "}}\n",
              "\n",
              "                        })                };                            </script>        </div>\n",
              "</body>\n",
              "</html>"
            ]
          },
          "metadata": {},
          "output_type": "display_data"
        }
      ],
      "source": [
        "optuna.visualization.plot_parallel_coordinate(study)"
      ]
    },
    {
      "cell_type": "markdown",
      "metadata": {
        "id": "CsQLVkYj7eHJ"
      },
      "source": [
        "#### **Model Create with Best Params Set**"
      ]
    },
    {
      "cell_type": "code",
      "execution_count": null,
      "metadata": {
        "colab": {
          "base_uri": "https://localhost:8080/"
        },
        "id": "UWRQiL3y7dg2",
        "outputId": "75a55578-68f0-4926-bafb-6b0f14a7ae1b"
      },
      "outputs": [
        {
          "name": "stderr",
          "output_type": "stream",
          "text": [
            "/usr/local/lib/python3.11/dist-packages/ipykernel/ipkernel.py:283: DeprecationWarning:\n",
            "\n",
            "`should_run_async` will not call `transform_cell` automatically in the future. Please pass the result to `transformed_cell` argument and any exception that happen during thetransform in `preprocessing_exc_tuple` in IPython 7.17 and above.\n",
            "\n"
          ]
        }
      ],
      "source": [
        "best_params = study.best_params\n",
        "\n",
        "# Train LDA model with optimized parameters\n",
        "best_lda_model = models.LdaModel(\n",
        "    corpus=corpus,\n",
        "    id2word=dictionary,\n",
        "    num_topics=best_params['num_topics'],\n",
        "    alpha=best_params['alpha'],\n",
        "    eta='auto',\n",
        "    passes=best_params['passes'],\n",
        "    iterations=best_params['iteration'],\n",
        "    random_state=42\n",
        ")"
      ]
    },
    {
      "cell_type": "markdown",
      "metadata": {
        "id": "_DnhqLj_7l_j"
      },
      "source": [
        "#### **Top Keywords Selection**\n"
      ]
    },
    {
      "cell_type": "code",
      "execution_count": null,
      "metadata": {
        "colab": {
          "base_uri": "https://localhost:8080/"
        },
        "id": "_g3Dz91h7oJQ",
        "outputId": "b6c07e7d-6141-49e5-9802-2382e59a3e6b"
      },
      "outputs": [
        {
          "name": "stdout",
          "output_type": "stream",
          "text": [
            " Topic 0:\n",
            "change, people, exploreplanet, climate, question, think, life, earth, send, picture\n",
            " Topic 1:\n",
            "change, climate, let, work, world, earth, vote, need, water, electricity\n",
            " Topic 2:\n",
            "science, look, space, let, thing, day, way, world, today, know\n",
            " Topic 3:\n",
            "today, year, space, climate, change, time, world, people, honor, day\n",
            " Topic 4:\n",
            "day, today, science, year, work, earth, let, world, spacex, join\n"
          ]
        },
        {
          "name": "stderr",
          "output_type": "stream",
          "text": [
            "/usr/local/lib/python3.11/dist-packages/ipykernel/ipkernel.py:283: DeprecationWarning:\n",
            "\n",
            "`should_run_async` will not call `transform_cell` automatically in the future. Please pass the result to `transformed_cell` argument and any exception that happen during thetransform in `preprocessing_exc_tuple` in IPython 7.17 and above.\n",
            "\n"
          ]
        }
      ],
      "source": [
        "lambda_value = 0.6\n",
        "keywords = []\n",
        "\n",
        "for topic_id in range(best_lda_model.num_topics):\n",
        "    topic_words = best_lda_model.show_topic(topic_id, topn=10)\n",
        "    sorted_words = sorted(topic_words, key=lambda x: x[1] * lambda_value, reverse=True)\n",
        "    keywords.append([word for word, _ in sorted_words])\n",
        "    print(f\" Topic {topic_id}:\")\n",
        "    print(\", \".join([word for word, _ in sorted_words]))"
      ]
    },
    {
      "cell_type": "code",
      "execution_count": null,
      "metadata": {
        "colab": {
          "base_uri": "https://localhost:8080/",
          "height": 966
        },
        "id": "3lLNHDLcV2oV",
        "outputId": "f9a2b3f5-fac4-478f-dcf4-cfb90de6a973"
      },
      "outputs": [
        {
          "name": "stderr",
          "output_type": "stream",
          "text": [
            "/usr/local/lib/python3.11/dist-packages/ipykernel/ipkernel.py:283: DeprecationWarning:\n",
            "\n",
            "`should_run_async` will not call `transform_cell` automatically in the future. Please pass the result to `transformed_cell` argument and any exception that happen during thetransform in `preprocessing_exc_tuple` in IPython 7.17 and above.\n",
            "\n"
          ]
        },
        {
          "name": "stdout",
          "output_type": "stream",
          "text": [
            "\n",
            "Topic Distances (Euclidean):\n",
            "Distance between Topic 0 and Topic 1: 1.217\n",
            "Distance between Topic 0 and Topic 2: 1.151\n",
            "Distance between Topic 0 and Topic 3: 1.286\n",
            "Distance between Topic 0 and Topic 4: 1.717\n",
            "Distance between Topic 1 and Topic 2: 1.441\n",
            "Distance between Topic 1 and Topic 3: 0.928\n",
            "Distance between Topic 1 and Topic 4: 1.180\n",
            "Distance between Topic 2 and Topic 3: 0.674\n",
            "Distance between Topic 2 and Topic 4: 0.950\n",
            "Distance between Topic 3 and Topic 4: 0.430\n"
          ]
        },
        {
          "data": {
            "image/png": "[encoded data removed]",
            "text/plain": [
              "<Figure size 900x600 with 1 Axes>"
            ]
          },
          "metadata": {},
          "output_type": "display_data"
        },
        {
          "name": "stdout",
          "output_type": "stream",
          "text": [
            "\n",
            "Explained variance ratio: [0.48411124 0.31103756]\n",
            "Total explained variance: 0.795\n"
          ]
        }
      ],
      "source": [
        "\n",
        "# Get topic vectors and representative words\n",
        "topic_vectors = []\n",
        "topic_words = []\n",
        "topic_representative_words = []\n",
        "\n",
        "for topic_id in range(best_lda_model.num_topics):\n",
        "    # Get top 10 words for each topic\n",
        "    words = [word for word, _ in best_lda_model.show_topic(topic_id)]\n",
        "    word_vectors = [word2vec_model[word] for word in words if word in word2vec_model]\n",
        "\n",
        "    if word_vectors:\n",
        "        # Calculate mean vector for the topic\n",
        "        topic_vectors.append(np.mean(word_vectors, axis=0))\n",
        "\n",
        "        # Find most representative words using cosine similarity\n",
        "        similarity_matrix = cosine_similarity(word_vectors)\n",
        "        avg_similarities = np.mean(similarity_matrix, axis=1)\n",
        "\n",
        "        # Get top 3 most representative words\n",
        "        top_3_indices = np.argsort(avg_similarities)[-3:][::-1]\n",
        "        representative_words = [words[idx] for idx in top_3_indices]\n",
        "        topic_representative_words.append(representative_words)\n",
        "    else:\n",
        "        topic_vectors.append(np.zeros(word2vec_model.vector_size))\n",
        "        topic_representative_words.append(['N/A', 'N/A', 'N/A'])\n",
        "\n",
        "# Use PCA for dimensionality reduction\n",
        "pca = PCA(n_components=2)\n",
        "topic_coords = pca.fit_transform(topic_vectors)\n",
        "\n",
        "# Create visualization\n",
        "plt.figure(figsize=(9, 6))\n",
        "\n",
        "# Set color palette\n",
        "colors = sns.color_palette(\"husl\", n_colors=len(topic_vectors))\n",
        "\n",
        "# Plot scatter points\n",
        "for i, (x, y) in enumerate(topic_coords):\n",
        "    plt.scatter(x, y, c=[colors[i]], s=100, alpha=0.7)\n",
        "\n",
        "    # Add topic labels with representative words\n",
        "    top_words = ', '.join(topic_representative_words[i])  # Using the most representative words\n",
        "    plt.annotate(f'Topic {i}\\n({top_words})',\n",
        "                (x, y),\n",
        "                xytext=(5, 5),\n",
        "                textcoords='offset points',\n",
        "                fontsize=10,\n",
        "                bbox=dict(facecolor='white',\n",
        "                         edgecolor='none',\n",
        "                         alpha=0.7))\n",
        "\n",
        "plt.title('Topic Distribution in 2D Space (PCA)', fontsize=14, pad=20)\n",
        "plt.xlabel('First Principal Component', fontsize=12)\n",
        "plt.ylabel('Second Principal Component', fontsize=12)\n",
        "plt.grid(True, linestyle='--', alpha=0.3)\n",
        "plt.tight_layout()\n",
        "\n",
        "# Calculate and display topic distances\n",
        "print(\"\\nTopic Distances (Euclidean):\")\n",
        "for i in range(len(topic_coords)):\n",
        "    for j in range(i+1, len(topic_coords)):\n",
        "        dist = np.linalg.norm(topic_coords[i] - topic_coords[j])\n",
        "        print(f\"Distance between Topic {i} and Topic {j}: {dist:.3f}\")\n",
        "\n",
        "plt.show()\n",
        "\n",
        "# Display PCA explained variance\n",
        "explained_variance_ratio = pca.explained_variance_ratio_\n",
        "print(f\"\\nExplained variance ratio: {explained_variance_ratio}\")\n",
        "print(f\"Total explained variance: {sum(explained_variance_ratio):.3f}\")"
      ]
    }
  ],
  "metadata": {
    "colab": {
      "provenance": []
    },
    "kernelspec": {
      "display_name": "Python 3",
      "name": "python3"
    },
    "language_info": {
      "name": "python"
    },
    "widgets": {
      "application/vnd.jupyter.widget-state+json": {
        "0d5fa341c09f45a0a5a6aacebdf5cacf": {
          "model_module": "@jupyter-widgets/controls",
          "model_module_version": "1.5.0",
          "model_name": "HBoxModel",
          "state": {
            "_dom_classes": [],
            "_model_module": "@jupyter-widgets/controls",
            "_model_module_version": "1.5.0",
            "_model_name": "HBoxModel",
            "_view_count": null,
            "_view_module": "@jupyter-widgets/controls",
            "_view_module_version": "1.5.0",
            "_view_name": "HBoxView",
            "box_style": "",
            "children": [
              "IPY_MODEL_7014bd88efca4adbb3797cd746ce4b24",
              "IPY_MODEL_11697b1a815943b69204e2e841830c49",
              "IPY_MODEL_41ec826d701447ec91f75506dc73a990"
            ],
            "layout": "IPY_MODEL_a37956b685e7410689af5b3dfbd2e876"
          }
        },
        "11697b1a815943b69204e2e841830c49": {
          "model_module": "@jupyter-widgets/controls",
          "model_module_version": "1.5.0",
          "model_name": "FloatProgressModel",
          "state": {
            "_dom_classes": [],
            "_model_module": "@jupyter-widgets/controls",
            "_model_module_version": "1.5.0",
            "_model_name": "FloatProgressModel",
            "_view_count": null,
            "_view_module": "@jupyter-widgets/controls",
            "_view_module_version": "1.5.0",
            "_view_name": "ProgressView",
            "bar_style": "success",
            "description": "",
            "description_tooltip": null,
            "layout": "IPY_MODEL_f0d17da132df4f1fbc7496f1be9d4df9",
            "max": 40,
            "min": 0,
            "orientation": "horizontal",
            "style": "IPY_MODEL_46bf856c6f4048d4986b41ca70e997d8",
            "value": 40
          }
        },
        "341dcef289d64f1ca3ad891da85fe7f6": {
          "model_module": "@jupyter-widgets/base",
          "model_module_version": "1.2.0",
          "model_name": "LayoutModel",
          "state": {
            "_model_module": "@jupyter-widgets/base",
            "_model_module_version": "1.2.0",
            "_model_name": "LayoutModel",
            "_view_count": null,
            "_view_module": "@jupyter-widgets/base",
            "_view_module_version": "1.2.0",
            "_view_name": "LayoutView",
            "align_content": null,
            "align_items": null,
            "align_self": null,
            "border": null,
            "bottom": null,
            "display": null,
            "flex": null,
            "flex_flow": null,
            "grid_area": null,
            "grid_auto_columns": null,
            "grid_auto_flow": null,
            "grid_auto_rows": null,
            "grid_column": null,
            "grid_gap": null,
            "grid_row": null,
            "grid_template_areas": null,
            "grid_template_columns": null,
            "grid_template_rows": null,
            "height": null,
            "justify_content": null,
            "justify_items": null,
            "left": null,
            "margin": null,
            "max_height": null,
            "max_width": null,
            "min_height": null,
            "min_width": null,
            "object_fit": null,
            "object_position": null,
            "order": null,
            "overflow": null,
            "overflow_x": null,
            "overflow_y": null,
            "padding": null,
            "right": null,
            "top": null,
            "visibility": null,
            "width": null
          }
        },
        "41ec826d701447ec91f75506dc73a990": {
          "model_module": "@jupyter-widgets/controls",
          "model_module_version": "1.5.0",
          "model_name": "HTMLModel",
          "state": {
            "_dom_classes": [],
            "_model_module": "@jupyter-widgets/controls",
            "_model_module_version": "1.5.0",
            "_model_name": "HTMLModel",
            "_view_count": null,
            "_view_module": "@jupyter-widgets/controls",
            "_view_module_version": "1.5.0",
            "_view_name": "HTMLView",
            "description": "",
            "description_tooltip": null,
            "layout": "IPY_MODEL_e4293603e6254ea49ef4fc4b2619cc17",
            "placeholder": "​",
            "style": "IPY_MODEL_eb5d0a9a14974ba88bbddce4076404f6",
            "value": " 40/40 [01:07&lt;00:00,  1.13s/it]"
          }
        },
        "46bf856c6f4048d4986b41ca70e997d8": {
          "model_module": "@jupyter-widgets/controls",
          "model_module_version": "1.5.0",
          "model_name": "ProgressStyleModel",
          "state": {
            "_model_module": "@jupyter-widgets/controls",
            "_model_module_version": "1.5.0",
            "_model_name": "ProgressStyleModel",
            "_view_count": null,
            "_view_module": "@jupyter-widgets/base",
            "_view_module_version": "1.2.0",
            "_view_name": "StyleView",
            "bar_color": null,
            "description_width": ""
          }
        },
        "55305a0a67354848b8886902c1a8d611": {
          "model_module": "@jupyter-widgets/controls",
          "model_module_version": "1.5.0",
          "model_name": "DescriptionStyleModel",
          "state": {
            "_model_module": "@jupyter-widgets/controls",
            "_model_module_version": "1.5.0",
            "_model_name": "DescriptionStyleModel",
            "_view_count": null,
            "_view_module": "@jupyter-widgets/base",
            "_view_module_version": "1.2.0",
            "_view_name": "StyleView",
            "description_width": ""
          }
        },
        "7014bd88efca4adbb3797cd746ce4b24": {
          "model_module": "@jupyter-widgets/controls",
          "model_module_version": "1.5.0",
          "model_name": "HTMLModel",
          "state": {
            "_dom_classes": [],
            "_model_module": "@jupyter-widgets/controls",
            "_model_module_version": "1.5.0",
            "_model_name": "HTMLModel",
            "_view_count": null,
            "_view_module": "@jupyter-widgets/controls",
            "_view_module_version": "1.5.0",
            "_view_name": "HTMLView",
            "description": "",
            "description_tooltip": null,
            "layout": "IPY_MODEL_341dcef289d64f1ca3ad891da85fe7f6",
            "placeholder": "​",
            "style": "IPY_MODEL_55305a0a67354848b8886902c1a8d611",
            "value": "Best trial: 5. Best value: 0.351946: 100%"
          }
        },
        "a37956b685e7410689af5b3dfbd2e876": {
          "model_module": "@jupyter-widgets/base",
          "model_module_version": "1.2.0",
          "model_name": "LayoutModel",
          "state": {
            "_model_module": "@jupyter-widgets/base",
            "_model_module_version": "1.2.0",
            "_model_name": "LayoutModel",
            "_view_count": null,
            "_view_module": "@jupyter-widgets/base",
            "_view_module_version": "1.2.0",
            "_view_name": "LayoutView",
            "align_content": null,
            "align_items": null,
            "align_self": null,
            "border": null,
            "bottom": null,
            "display": null,
            "flex": null,
            "flex_flow": null,
            "grid_area": null,
            "grid_auto_columns": null,
            "grid_auto_flow": null,
            "grid_auto_rows": null,
            "grid_column": null,
            "grid_gap": null,
            "grid_row": null,
            "grid_template_areas": null,
            "grid_template_columns": null,
            "grid_template_rows": null,
            "height": null,
            "justify_content": null,
            "justify_items": null,
            "left": null,
            "margin": null,
            "max_height": null,
            "max_width": null,
            "min_height": null,
            "min_width": null,
            "object_fit": null,
            "object_position": null,
            "order": null,
            "overflow": null,
            "overflow_x": null,
            "overflow_y": null,
            "padding": null,
            "right": null,
            "top": null,
            "visibility": null,
            "width": null
          }
        },
        "e4293603e6254ea49ef4fc4b2619cc17": {
          "model_module": "@jupyter-widgets/base",
          "model_module_version": "1.2.0",
          "model_name": "LayoutModel",
          "state": {
            "_model_module": "@jupyter-widgets/base",
            "_model_module_version": "1.2.0",
            "_model_name": "LayoutModel",
            "_view_count": null,
            "_view_module": "@jupyter-widgets/base",
            "_view_module_version": "1.2.0",
            "_view_name": "LayoutView",
            "align_content": null,
            "align_items": null,
            "align_self": null,
            "border": null,
            "bottom": null,
            "display": null,
            "flex": null,
            "flex_flow": null,
            "grid_area": null,
            "grid_auto_columns": null,
            "grid_auto_flow": null,
            "grid_auto_rows": null,
            "grid_column": null,
            "grid_gap": null,
            "grid_row": null,
            "grid_template_areas": null,
            "grid_template_columns": null,
            "grid_template_rows": null,
            "height": null,
            "justify_content": null,
            "justify_items": null,
            "left": null,
            "margin": null,
            "max_height": null,
            "max_width": null,
            "min_height": null,
            "min_width": null,
            "object_fit": null,
            "object_position": null,
            "order": null,
            "overflow": null,
            "overflow_x": null,
            "overflow_y": null,
            "padding": null,
            "right": null,
            "top": null,
            "visibility": null,
            "width": null
          }
        },
        "eb5d0a9a14974ba88bbddce4076404f6": {
          "model_module": "@jupyter-widgets/controls",
          "model_module_version": "1.5.0",
          "model_name": "DescriptionStyleModel",
          "state": {
            "_model_module": "@jupyter-widgets/controls",
            "_model_module_version": "1.5.0",
            "_model_name": "DescriptionStyleModel",
            "_view_count": null,
            "_view_module": "@jupyter-widgets/base",
            "_view_module_version": "1.2.0",
            "_view_name": "StyleView",
            "description_width": ""
          }
        },
        "f0d17da132df4f1fbc7496f1be9d4df9": {
          "model_module": "@jupyter-widgets/base",
          "model_module_version": "1.2.0",
          "model_name": "LayoutModel",
          "state": {
            "_model_module": "@jupyter-widgets/base",
            "_model_module_version": "1.2.0",
            "_model_name": "LayoutModel",
            "_view_count": null,
            "_view_module": "@jupyter-widgets/base",
            "_view_module_version": "1.2.0",
            "_view_name": "LayoutView",
            "align_content": null,
            "align_items": null,
            "align_self": null,
            "border": null,
            "bottom": null,
            "display": null,
            "flex": null,
            "flex_flow": null,
            "grid_area": null,
            "grid_auto_columns": null,
            "grid_auto_flow": null,
            "grid_auto_rows": null,
            "grid_column": null,
            "grid_gap": null,
            "grid_row": null,
            "grid_template_areas": null,
            "grid_template_columns": null,
            "grid_template_rows": null,
            "height": null,
            "justify_content": null,
            "justify_items": null,
            "left": null,
            "margin": null,
            "max_height": null,
            "max_width": null,
            "min_height": null,
            "min_width": null,
            "object_fit": null,
            "object_position": null,
            "order": null,
            "overflow": null,
            "overflow_x": null,
            "overflow_y": null,
            "padding": null,
            "right": null,
            "top": null,
            "visibility": null,
            "width": null
          }
        }
      }
    }
  },
  "nbformat": 4,
  "nbformat_minor": 0
}
